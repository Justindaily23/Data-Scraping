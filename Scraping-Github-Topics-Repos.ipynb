{
 "cells": [
  {
   "cell_type": "markdown",
   "id": "1b8ca6c5",
   "metadata": {},
   "source": [
    "# Top Repositories for GitHub Topics"
   ]
  },
  {
   "cell_type": "markdown",
   "id": "e715f11e",
   "metadata": {},
   "source": [
    "### Pick a website and describe your objective\n",
    "\n",
    "- Browse through different sites and pick on to scrape. Check the\n",
    "  \"Project Ideas\" section for inspiration.\n",
    "- Identify the information you'd like to scrape from the site. \n",
    "  Decide the format of the output CSV file.\n",
    "- Summarize your project idea and outline your strategy in a Juptyer notebook. \n",
    "  Use the \"New\" button above."
   ]
  },
  {
   "cell_type": "markdown",
   "id": "94493c4b",
   "metadata": {},
   "source": [
    "### Project Outline:\n",
    "   - Scrape https://github.com/topics\n",
    "   - Get a list of topics by Title, Url, Description\n",
    "   - For each topic, we will get top 25 repos\n",
    "   - For each repository, we will grab the repo name, username, stars and repo url\n",
    "   - For each topic we will create a csv file"
   ]
  },
  {
   "cell_type": "code",
   "execution_count": null,
   "id": "a27843bb",
   "metadata": {},
   "outputs": [],
   "source": [
    "!pip install requests --upgrade --quiet\n",
    "!pip install beautifulsoup4 --upgrade --quiet\n",
    "!pip install pandas --quiet\n",
    "\n",
    "from bs4 import BeautifulSoup\n",
    "import requests\n",
    "import pandas as pd\n",
    "\n",
    "def scraped_site():\n",
    "    #getting the docs from the webpage\n",
    "    \n",
    "    topics_url = 'https://github.com/topics'\n",
    "    response = requests.get(topics_url)\n",
    "    status_code = response.status_code\n",
    "    content = response.text\n",
    "    if status_code != 200:\n",
    "        raise Exception(\"{} failed to load\".format(topic_url))   \n",
    "    doc = BeautifulSoup(content, 'html.parser')\n",
    "    return doc\n",
    "\n",
    "topic_title = scrape_topics()\n",
    "\n",
    "\n",
    "def get_urls():\n",
    "    #getting webpages urls for each topic\n",
    "    \n",
    "    topic_urls = []\n",
    "    base_url = 'https://githug.com'\n",
    "    a_tag = doc1.find_all('a', class_='no-underline flex-1 d-flex flex-column')\n",
    "    for url in a_tag:\n",
    "        topic_urls.append(base_url+url['href'])\n",
    "    return topic_urls\n",
    "\n",
    "topic_url = get_urls()\n",
    "\n",
    "\n",
    "def get_description():\n",
    "    #getting webpages description for each topic\n",
    "    \n",
    "    topic_desc = []\n",
    "    p_desc_tag = doc1.find_all('p', class_='f5 color-fg-muted mb-0 mt-1')\n",
    "    \n",
    "    for desc in p_desc_tag:\n",
    "        topic_desc.append(desc.text.strip())\n",
    "    return topic_desc\n",
    "    \n",
    "topic_description = get_description()\n",
    "\n",
    "# dictionary for the various functions defined for topics, urls and description\n",
    "topic_dict = {\n",
    "    'Title': topic_title,\n",
    "    'Url': topic_url,\n",
    "    'Description': topic_description\n",
    "}\n",
    "\n",
    "#using pandas to create dataframe\n",
    "topics_df = pd.DataFrame(topic_dict)\n",
    "\n",
    "#saving the dataframe in csv format\n",
    "topics_df.to_csv('topicsinfo.csv', index=None)"
   ]
  }
 ],
 "metadata": {
  "kernelspec": {
   "display_name": "Python 3 (ipykernel)",
   "language": "python",
   "name": "python3"
  },
  "language_info": {
   "codemirror_mode": {
    "name": "ipython",
    "version": 3
   },
   "file_extension": ".py",
   "mimetype": "text/x-python",
   "name": "python",
   "nbconvert_exporter": "python",
   "pygments_lexer": "ipython3",
   "version": "3.10.9"
  }
 },
 "nbformat": 4,
 "nbformat_minor": 5
}
